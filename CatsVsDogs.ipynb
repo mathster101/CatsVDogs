{
  "nbformat": 4,
  "nbformat_minor": 0,
  "metadata": {
    "colab": {
      "name": "CatsVsDogs.ipynb",
      "provenance": [],
      "collapsed_sections": [],
      "authorship_tag": "ABX9TyP8/tasSiuOiXvXOitu1uMs",
      "include_colab_link": true
    },
    "kernelspec": {
      "name": "python3",
      "display_name": "Python 3"
    },
    "accelerator": "GPU"
  },
  "cells": [
    {
      "cell_type": "markdown",
      "metadata": {
        "id": "view-in-github",
        "colab_type": "text"
      },
      "source": [
        "<a href=\"https://colab.research.google.com/github/mathster101/CatsVDogs/blob/master/CatsVsDogs.ipynb\" target=\"_parent\"><img src=\"https://colab.research.google.com/assets/colab-badge.svg\" alt=\"Open In Colab\"/></a>"
      ]
    },
    {
      "cell_type": "code",
      "metadata": {
        "id": "zwCxCbOZVfzb",
        "colab_type": "code",
        "outputId": "df2f14e3-b9b0-46d8-d768-6d94052003fc",
        "colab": {
          "base_uri": "https://localhost:8080/",
          "height": 121
        }
      },
      "source": [
        "from google.colab import drive\n",
        "drive.mount('/content/drive/')"
      ],
      "execution_count": 2,
      "outputs": [
        {
          "output_type": "stream",
          "text": [
            "Go to this URL in a browser: https://accounts.google.com/o/oauth2/auth?client_id=947318989803-6bn6qk8qdgf4n4g3pfee6491hc0brc4i.apps.googleusercontent.com&redirect_uri=urn%3aietf%3awg%3aoauth%3a2.0%3aoob&response_type=code&scope=email%20https%3a%2f%2fwww.googleapis.com%2fauth%2fdocs.test%20https%3a%2f%2fwww.googleapis.com%2fauth%2fdrive%20https%3a%2f%2fwww.googleapis.com%2fauth%2fdrive.photos.readonly%20https%3a%2f%2fwww.googleapis.com%2fauth%2fpeopleapi.readonly\n",
            "\n",
            "Enter your authorization code:\n",
            "··········\n",
            "Mounted at /content/drive/\n"
          ],
          "name": "stdout"
        }
      ]
    },
    {
      "cell_type": "code",
      "metadata": {
        "id": "jKYfCVx1WJms",
        "colab_type": "code",
        "colab": {}
      },
      "source": [
        "import time as t\n",
        "import torch\n",
        "import torch.nn as nn\n",
        "import torch.nn.functional as F\n",
        "import torch.optim as optim\n",
        "from torchvision import datasets, transforms\n",
        "from torch.autograd import Variable\n",
        "from random import randint\n",
        "import numpy as np\n",
        "import tqdm\n",
        "from matplotlib import pyplot as plt\n",
        "\n",
        "\n",
        "from_file = np.load('/content/drive/My Drive/python/cvd.npy',allow_pickle=True)"
      ],
      "execution_count": 0,
      "outputs": []
    },
    {
      "cell_type": "code",
      "metadata": {
        "id": "VXVvp2XCXvcI",
        "colab_type": "code",
        "colab": {}
      },
      "source": [
        "data = []\n",
        "for f in from_file:\n",
        "   entry = []\n",
        "   img = f[0]/255\n",
        "   tar = f[1]\n",
        "   img_t = torch.Tensor([img])\n",
        "   entry.append(img_t)\n",
        "   entry.append(tar)\n",
        "   #entry = tuple(entry)\n",
        "   #print(entry)\n",
        "   data.append(entry)"
      ],
      "execution_count": 0,
      "outputs": []
    },
    {
      "cell_type": "code",
      "metadata": {
        "id": "QuI9vTdRX3EV",
        "colab_type": "code",
        "colab": {}
      },
      "source": [
        "trainset = torch.utils.data.DataLoader(data[400:], batch_size = 64,\n",
        "                                       shuffle = True)\n",
        "testset = torch.utils.data.DataLoader(data[:400], batch_size = 1,\n",
        "                                       shuffle = True)"
      ],
      "execution_count": 0,
      "outputs": []
    },
    {
      "cell_type": "code",
      "metadata": {
        "id": "fXlEne3VYAMU",
        "colab_type": "code",
        "outputId": "cdb7fb4d-60f8-4b47-fd9e-4c19743b1dfd",
        "colab": {
          "base_uri": "https://localhost:8080/",
          "height": 34
        }
      },
      "source": [
        "class Net(nn.Module):\n",
        "\n",
        "    def __init__(self):\n",
        "        super(Net, self).__init__()\n",
        "        self.conv1 = nn.Conv2d(1, 50, kernel_size=3)\n",
        "        self.conv2 = nn.Conv2d(50, 50, kernel_size=3)\n",
        "        self.conv3 = nn.Conv2d(50, 60, kernel_size=3)\n",
        "        self.conv4 = nn.Conv2d(60, 75, kernel_size=3)\n",
        "        self.conv5 = nn.Conv2d(75, 200, kernel_size=3)\n",
        "        self.conv6 = nn.Conv2d(200, 400, kernel_size=3)\n",
        "        self.mp = nn.MaxPool2d(2)\n",
        "        self.fc = nn.Linear(6400, 20)\n",
        "        self.op = nn.Linear(20,2)\n",
        "        self.bn1 = nn.BatchNorm2d(50)\n",
        "        self.bn2 = nn.BatchNorm2d(200)\n",
        "        \n",
        "\n",
        "    def forward(self, x):\n",
        "        in_size = x.size(0)\n",
        "        x = self.bn1(self.mp(self.conv1(x).relu()))\n",
        "        x = self.conv2(x)\n",
        "        x = self.mp(self.conv3(x).relu())\n",
        "        x = self.conv4(x).relu()\n",
        "        x = self.bn2(self.conv5(x).relu())\n",
        "        x = self.conv6(x).relu()\n",
        "        x = x.view(in_size, -1)  # flatten the tensor\n",
        "        x = self.fc(x).relu()\n",
        "        x = self.op(x)\n",
        "        return x\n",
        "     \n",
        "class Net2(nn.Module):\n",
        "\n",
        "    def __init__(self):\n",
        "        super(Net2, self).__init__()\n",
        "        self.conv1 = nn.Conv2d(1, 50, kernel_size=3)\n",
        "        self.conv2 = nn.Conv2d(50, 50, kernel_size=3)\n",
        "        self.conv3 = nn.Conv2d(50, 60, kernel_size=3)\n",
        "        self.conv4 = nn.Conv2d(60, 75, kernel_size=3)\n",
        "        self.conv5 = nn.Conv2d(75, 200, kernel_size=3)\n",
        "        self.conv6 = nn.Conv2d(200, 400, kernel_size=3)\n",
        "        self.conv7 = nn.Conv2d(400,600,2)\n",
        "        self.mp = nn.MaxPool2d(2)\n",
        "        self.fc = nn.Linear(5400, 200)\n",
        "        self.op = nn.Linear(200,2)\n",
        "        self.bn1 = nn.BatchNorm2d(50)\n",
        "        self.bn2 = nn.BatchNorm2d(200)        \n",
        "\n",
        "    def forward(self, x):\n",
        "        in_size = x.size(0)\n",
        "        x = self.bn1(self.mp(self.conv1(x).relu()))\n",
        "        x = F.relu(self.conv2(x))\n",
        "        x = F.relu(self.mp(self.conv3(x)))\n",
        "        x = F.relu(self.conv4(x))\n",
        "        x = self.bn2(self.conv5(x).relu())\n",
        "        x = F.relu(self.conv6(x))\n",
        "        x = F.relu(self.conv7(x))  \n",
        "        x = x.view(in_size, -1)  # flatten the tensor\n",
        "        x = self.fc(x).relu()\n",
        "        x = self.op(x)\n",
        "        return x\n",
        "loss_func = nn.CrossEntropyLoss()\n",
        "net = Net2().cuda()\n",
        "\n",
        "print('net created')\n",
        "optimizer = optim.Adam(net.parameters(), lr=(1.0e-3))"
      ],
      "execution_count": 0,
      "outputs": [
        {
          "output_type": "stream",
          "text": [
            "net created\n"
          ],
          "name": "stdout"
        }
      ]
    },
    {
      "cell_type": "code",
      "metadata": {
        "id": "Y2pFDJZNYLR_",
        "colab_type": "code",
        "colab": {}
      },
      "source": [
        "def test():\n",
        "   #testing time\n",
        "   net.eval()\n",
        "   total = 0\n",
        "   correct = 0\n",
        "   \n",
        "   #print('validation ongoing')\n",
        "   \n",
        "   for dat in testset:\n",
        "      x,y = dat\n",
        "      x = x.cuda()\n",
        "      output = net(x)\n",
        "      y = list(y)\n",
        "      values, indices = output[0].max(0)\n",
        "      y = int(y[0])\n",
        "      indices = int(indices)\n",
        "   #   print('True Value = ',y)\n",
        "   #   print('Prediction = ',indices)\n",
        "   #   print('\\n______________________________________')\n",
        "      if y == indices:\n",
        "         correct += 1\n",
        "   \n",
        "         \n",
        "      total += 1\n",
        "   #print((correct/total)*100,'validation accuracy')\n",
        "   return (correct/total)\n",
        "acc = []\n",
        "losses = []"
      ],
      "execution_count": 0,
      "outputs": []
    },
    {
      "cell_type": "code",
      "metadata": {
        "id": "0jG4-6JlYT6w",
        "colab_type": "code",
        "outputId": "e5e85504-671d-417e-c3d6-37b0f5aff149",
        "colab": {
          "base_uri": "https://localhost:8080/",
          "height": 840
        }
      },
      "source": [
        "count = 0\n",
        "for epoch in tqdm.tqdm(range(15)):\n",
        "   net.train()#training mode\n",
        "   for data in trainset:\n",
        "      t1 = t.time()\n",
        "      x,y = data\n",
        "      x = x.cuda()\n",
        "      y = y.cuda()\n",
        "      optimizer.zero_grad()\n",
        "      output = net(x)\n",
        "      #print(output,y)\n",
        "      loss = loss_func(output, y)\n",
        "      #print(output,y)\n",
        "      loss.backward()\n",
        "      optimizer.step()\n",
        "      \n",
        "      count  += 1\n",
        "      if count%5 == 0:\n",
        "         #print(round(float(loss),4),'|||',round((t.time() - t1)*1000,3),'ms/batch    ',epoch)\n",
        "         count  = 0\n",
        "         losses.append(float(loss))\n",
        "   acc.append(test())"
      ],
      "execution_count": 0,
      "outputs": [
        {
          "output_type": "stream",
          "text": [
            "\n",
            "\n",
            "\n",
            "  0%|          | 0/15 [00:00<?, ?it/s]\u001b[A\u001b[A\u001b[A\n",
            "\n",
            "\n",
            "  7%|▋         | 1/15 [00:04<01:06,  4.73s/it]\u001b[A\u001b[A\u001b[A\n",
            "\n",
            "\n",
            " 13%|█▎        | 2/15 [00:09<01:01,  4.72s/it]\u001b[A\u001b[A\u001b[A\n",
            "\n",
            "\n",
            " 20%|██        | 3/15 [00:14<00:56,  4.72s/it]\u001b[A\u001b[A\u001b[A\n",
            "\n",
            "\n",
            " 27%|██▋       | 4/15 [00:18<00:51,  4.71s/it]\u001b[A\u001b[A\u001b[A\n",
            "\n",
            "\n",
            " 33%|███▎      | 5/15 [00:23<00:47,  4.71s/it]\u001b[A\u001b[A\u001b[A\n",
            "\n",
            "\n",
            " 40%|████      | 6/15 [00:28<00:42,  4.71s/it]\u001b[A\u001b[A\u001b[A\n",
            "\n",
            "\n",
            " 47%|████▋     | 7/15 [00:32<00:37,  4.71s/it]\u001b[A\u001b[A\u001b[A\n",
            "\n",
            "\n",
            " 53%|█████▎    | 8/15 [00:37<00:32,  4.71s/it]\u001b[A\u001b[A\u001b[A\n",
            "\n",
            "\n",
            " 60%|██████    | 9/15 [00:42<00:28,  4.71s/it]\u001b[A\u001b[A\u001b[A\n",
            "\n",
            "\n",
            " 67%|██████▋   | 10/15 [00:47<00:23,  4.71s/it]\u001b[A\u001b[A\u001b[A\n",
            "\n",
            "\n",
            " 73%|███████▎  | 11/15 [00:51<00:18,  4.70s/it]\u001b[A\u001b[A\u001b[A\n",
            "\n",
            "\n",
            " 80%|████████  | 12/15 [00:56<00:14,  4.70s/it]\u001b[A\u001b[A\u001b[A\n",
            "\n",
            "\n",
            " 87%|████████▋ | 13/15 [01:01<00:09,  4.70s/it]\u001b[A\u001b[A\u001b[A\n",
            "\n",
            "\n",
            " 93%|█████████▎| 14/15 [01:05<00:04,  4.70s/it]\u001b[A\u001b[A\u001b[A\n",
            "\n",
            "\n",
            "100%|██████████| 15/15 [01:10<00:00,  4.71s/it]\n"
          ],
          "name": "stderr"
        }
      ]
    },
    {
      "cell_type": "code",
      "metadata": {
        "id": "WGcX1IfbYbeO",
        "colab_type": "code",
        "outputId": "c7c6e7ec-8d48-4020-a937-5e0bde97678f",
        "colab": {
          "base_uri": "https://localhost:8080/",
          "height": 298
        }
      },
      "source": [
        "fig = plt.figure()\n",
        "plt.subplot(2,1,1)\n",
        "plt.plot(acc)\n",
        "plt.title('Validation accuracy')\n",
        "plt.subplot(2,1,2)\n",
        "plt.plot(losses)\n",
        "plt.title('loss')\n",
        "plt.show()\n",
        "max(acc)"
      ],
      "execution_count": 0,
      "outputs": [
        {
          "output_type": "display_data",
          "data": {
            "image/png": "[encoded data removed]",
            "text/plain": [
              "<Figure size 432x288 with 2 Axes>"
            ]
          },
          "metadata": {
            "tags": []
          }
        },
        {
          "output_type": "execute_result",
          "data": {
            "text/plain": [
              "0.8875"
            ]
          },
          "metadata": {
            "tags": []
          },
          "execution_count": 110
        }
      ]
    }
  ]
}